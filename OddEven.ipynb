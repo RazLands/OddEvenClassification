{
  "nbformat": 4,
  "nbformat_minor": 0,
  "metadata": {
    "colab": {
      "name": "OddEven.ipynb",
      "provenance": [],
      "private_outputs": true,
      "collapsed_sections": [],
      "toc_visible": true,
      "include_colab_link": true
    },
    "kernelspec": {
      "display_name": "Python 3",
      "name": "python3"
    }
  },
  "cells": [
    {
      "cell_type": "markdown",
      "metadata": {
        "id": "view-in-github",
        "colab_type": "text"
      },
      "source": [
        "<a href=\"https://colab.research.google.com/github/RazLands/OddEvenClassification/blob/master/OddEven.ipynb\" target=\"_parent\"><img src=\"https://colab.research.google.com/assets/colab-badge.svg\" alt=\"Open In Colab\"/></a>"
      ]
    },
    {
      "cell_type": "markdown",
      "metadata": {
        "id": "vp80hJV6qmzl",
        "colab_type": "text"
      },
      "source": [
        "# Mount to Google Drive"
      ]
    },
    {
      "cell_type": "code",
      "metadata": {
        "id": "Tsw-vKxBJ38Q",
        "colab_type": "code",
        "colab": {}
      },
      "source": [
        "from google.colab import drive\n",
        "drive.mount('/content/drive')"
      ],
      "execution_count": 0,
      "outputs": []
    },
    {
      "cell_type": "markdown",
      "metadata": {
        "id": "iO-hctZCqnFj",
        "colab_type": "text"
      },
      "source": [
        "# Import relevant modules"
      ]
    },
    {
      "cell_type": "code",
      "metadata": {
        "id": "nM9oERWKqnM9",
        "colab_type": "code",
        "colab": {}
      },
      "source": [
        "from keras.datasets import mnist\n",
        "from keras.models import Sequential, Model\n",
        "import keras.layers as layers\n",
        "from keras.utils import to_categorical\n",
        "from keras import optimizers\n",
        "from keras.models import model_from_json\n",
        "import matplotlib.pyplot as plt\n",
        "from sklearn.metrics import confusion_matrix\n",
        "import numpy as np\n",
        "from keras.models import Sequential\n",
        "from keras.layers import Dense, Activation\n",
        "from sklearn.metrics import roc_auc_score\n",
        "from sklearn.metrics import roc_curve, auc\n",
        "from plot_confusion_matrix import plot_confusion_matrix\n",
        "from keras.layers import Dense, Flatten, Activation\n"
      ],
      "execution_count": 0,
      "outputs": []
    },
    {
      "cell_type": "markdown",
      "metadata": {
        "id": "YQHfAzQFqnTR",
        "colab_type": "text"
      },
      "source": [
        "## Load MNist digits dataset"
      ]
    },
    {
      "cell_type": "code",
      "metadata": {
        "colab_type": "code",
        "id": "ZH1jHmEJlB5N",
        "colab": {}
      },
      "source": [
        "# Load MNist dataset of digits images 0-9\n",
        "(x_train, y_train), (x_test, y_test) = mnist.load_data()\n",
        "\n",
        "x_train_oe = x_train\n",
        "x_test_oe = x_test\n",
        "\n",
        "# Create Odd and Even array\n",
        "y_train_oe = y_train%2\n",
        "y_test_oe = y_test%2\n",
        "\n",
        "# Make categorized tables\n",
        "y_train = to_categorical(y_train)\n",
        "y_test = to_categorical(y_test)\n",
        "\n",
        "y_train_oe = to_categorical(y_train_oe)\n",
        "y_test_oe = to_categorical(y_test_oe)\n",
        "\n",
        "\n",
        "\n",
        "# Print shapes\n",
        "print('x_train shape:', x_train.shape)\n",
        "print('x_test shape:', x_test.shape)\n",
        "print('y_train shape:', y_train.shape)\n",
        "print('y_test shape:', y_test.shape)\n",
        "print(\"\")\n",
        "print('x_train ODD/EVEN shape:', x_train_oe.shape)\n",
        "print('x_test ODD/EVEN shape:', x_test_oe.shape)\n",
        "print('y_train ODD/EVEN shape:', y_train_oe.shape)\n",
        "print('y_test ODD/EVEN shape:', y_test_oe.shape)"
      ],
      "execution_count": 0,
      "outputs": []
    },
    {
      "cell_type": "markdown",
      "metadata": {
        "id": "9V65Ou-yqnic",
        "colab_type": "text"
      },
      "source": [
        "# Hyper Parameters initialization"
      ]
    },
    {
      "cell_type": "code",
      "metadata": {
        "id": "S68xS134qnqG",
        "colab_type": "code",
        "colab": {}
      },
      "source": [
        "num_of_clss = 10          # number of classes\n",
        "num_of_clss_oe = 2\n",
        "hidden_size =        30    # number of neurons in the hidden layer\n",
        "lr =        0.0001        # learning rate \n",
        "beta_1 =   0.9              # beta 1 - for adam optimizer\n",
        "beta_2 =      0.99           # beta 2 - for adam optimizer\n",
        "epsilon =         1e-8       # epsilon - for adam optimizer\n",
        "epochs =               50  # number of epochs \n",
        "bs =                  64   # batch size\n"
      ],
      "execution_count": 0,
      "outputs": []
    },
    {
      "cell_type": "markdown",
      "metadata": {
        "id": "g7FBqY-JwTJb",
        "colab_type": "text"
      },
      "source": [
        "# Model Configuration"
      ]
    },
    {
      "cell_type": "markdown",
      "metadata": {
        "id": "2MkQg-agwV3m",
        "colab_type": "text"
      },
      "source": [
        "10 Classes classification - 0-9 digits"
      ]
    },
    {
      "cell_type": "code",
      "metadata": {
        "id": "gSGhwNl6wZp6",
        "colab_type": "code",
        "colab": {}
      },
      "source": [
        "model = Sequential()\n",
        "\n",
        "model.add(Flatten())\n",
        "model.add(Dense(hidden_size))\n",
        "model.add(Activation('relu'))\n",
        "model.add(Dense(hidden_size))\n",
        "model.add(Activation('sigmoid'))\n",
        "model.add(Dense(num_of_clss))\n",
        "model.add(Activation('softmax'))\n"
      ],
      "execution_count": 0,
      "outputs": []
    },
    {
      "cell_type": "markdown",
      "metadata": {
        "id": "CxUTY7FzwaU7",
        "colab_type": "text"
      },
      "source": [
        "2 Classes classification - Odd and Even"
      ]
    },
    {
      "cell_type": "code",
      "metadata": {
        "id": "X0vxLU8LxOdt",
        "colab_type": "code",
        "colab": {}
      },
      "source": [
        "model_oe = Sequential()\n",
        "\n",
        "model_oe.add(Flatten())\n",
        "model_oe.add(Dense(hidden_size))\n",
        "model_oe.add(Activation('relu'))\n",
        "model_oe.add(Dense(hidden_size))\n",
        "model_oe.add(Activation('sigmoid'))\n",
        "model_oe.add(Dense(num_of_clss_oe))\n",
        "model_oe.add(Activation('sigmoid'))\n",
        "# model_oe.add(Activation('softmax')) # <--- Maybe we should try sigmoid instead of softmax here for binary classification\n"
      ],
      "execution_count": 0,
      "outputs": []
    },
    {
      "cell_type": "markdown",
      "metadata": {
        "id": "xt2XIBeqxRY9",
        "colab_type": "text"
      },
      "source": [
        "# Model training and show results"
      ]
    },
    {
      "cell_type": "markdown",
      "metadata": {
        "id": "J3G_c7puxpHB",
        "colab_type": "text"
      },
      "source": [
        "Train the 10 classes model"
      ]
    },
    {
      "cell_type": "code",
      "metadata": {
        "id": "S5xLT5Mjqn2f",
        "colab_type": "code",
        "colab": {}
      },
      "source": [
        "# Define the optimizer and compile the model\n",
        "adam = optimizers.Adam(lr=lr, beta_1=beta_1, beta_2=beta_2, epsilon=epsilon)\n",
        "model.compile(optimizer=adam, loss='categorical_crossentropy', metrics=['accuracy'])\n",
        "\n",
        "# Train the model, iterating on the data in batches of 64 samples\n",
        "history = model.fit(x_train, y_train, validation_split=0.3, epochs=epochs, batch_size=bs)\n",
        "\n",
        "# Plot train and validation loss \n",
        "plt.plot(history.history['loss'])\n",
        "plt.plot(history.history['val_loss'])\n",
        "plt.title('model loss')\n",
        "plt.ylabel('loss')\n",
        "plt.xlabel('epoch')\n",
        "plt.legend(['train', 'validation'], loc='upper left')\n",
        "plt.show(); plt.close()\n",
        "\n",
        "# Model evaluation\n",
        "test_loss, test_acc = model.evaluate(x_test, y_test)\n",
        "\n",
        "# Print results\n",
        "print('test loss:', test_loss)\n",
        "print('test accuracy:', test_acc)\n"
      ],
      "execution_count": 0,
      "outputs": []
    },
    {
      "cell_type": "markdown",
      "metadata": {
        "id": "GILpI1MUyG9i",
        "colab_type": "text"
      },
      "source": [
        "Train the 2 classes model"
      ]
    },
    {
      "cell_type": "code",
      "metadata": {
        "id": "vUMMF00Ekfxq",
        "colab_type": "code",
        "colab": {}
      },
      "source": [
        "# Define the optimizer and compile the model\n",
        "model_oe.compile(optimizer=adam, loss='categorical_crossentropy', metrics=['accuracy'])\n",
        "\n",
        "# Train the model, iterating on the data in batches of 64 samples\n",
        "history_oe = model_oe.fit(x_train_oe, y_train_oe, validation_split=0.3, epochs=epochs, batch_size=bs)\n",
        "\n",
        "# Plot train and validation loss \n",
        "plt.plot(history_oe.history['loss'])\n",
        "plt.plot(history_oe.history['val_loss'])\n",
        "plt.title('model loss')\n",
        "plt.ylabel('loss')\n",
        "plt.xlabel('epoch')\n",
        "plt.legend(['train', 'validation'], loc='upper left')\n",
        "plt.show(); plt.close()\n",
        "\n",
        "# Model evaluation\n",
        "test_loss, test_acc = model_oe.evaluate(x_test_oe, y_test_oe)\n",
        "\n",
        "# Print results\n",
        "print('test loss:', test_loss)\n",
        "print('test accuracy:', test_acc)\n"
      ],
      "execution_count": 0,
      "outputs": []
    },
    {
      "cell_type": "markdown",
      "metadata": {
        "id": "4RV0ADCLFu1r",
        "colab_type": "text"
      },
      "source": [
        "## Predict on Test Set\n"
      ]
    },
    {
      "cell_type": "code",
      "metadata": {
        "id": "z0TNRZ1uFvXw",
        "colab_type": "code",
        "colab": {}
      },
      "source": [
        "y_pred = model.predict(x_test)\n",
        "y_pred_oe = model_oe.predict(x_test_oe)\n",
        "\n",
        "# Confusion Matrix\n",
        "cm = confusion_matrix(np.argmax(y_test,axis=1), np.argmax(np.round(y_pred),axis=1))\n",
        "cm_oe = confusion_matrix(np.argmax(y_test_oe,axis=1), np.argmax(np.round(y_pred_oe),axis=1))\n",
        "\n",
        "labels = ['class ' + str(i) for i in range(num_of_clss)] \n",
        "labels_oe = [\"even\", \"odd\"]\n",
        "plot_confusion_matrix(cm,labels,title='Confusion Matrix',normalize=True)\n",
        "plot_confusion_matrix(cm_oe,labels_oe,title='Confusion Matrix ODD/EVEN',normalize=True)\n"
      ],
      "execution_count": 0,
      "outputs": []
    },
    {
      "cell_type": "markdown",
      "metadata": {
        "id": "egKvt1iaqn88",
        "colab_type": "text"
      },
      "source": [
        "# Summarize"
      ]
    },
    {
      "cell_type": "code",
      "metadata": {
        "id": "H9Z8TmqqqoDW",
        "colab_type": "code",
        "colab": {}
      },
      "source": [
        "# Summerize the model arhiteture and parameters\n",
        "model.summary()\n",
        "model_oe.summary()\n"
      ],
      "execution_count": 0,
      "outputs": []
    },
    {
      "cell_type": "markdown",
      "metadata": {
        "id": "YGeA7Wjw7vjK",
        "colab_type": "text"
      },
      "source": [
        "# Plot examples from 2 classes classification"
      ]
    },
    {
      "cell_type": "code",
      "metadata": {
        "id": "pHDm2rGfWgq4",
        "colab_type": "code",
        "colab": {}
      },
      "source": [
        "# Plot example batch for odd-even classification  \n",
        "for i in range(9):\n",
        "  plt.subplot(3,3,i+1)\n",
        "  plt.imshow(x_train_oe[i], cmap='Greys', interpolation='none')\n",
        "  plt.title(\"Class {}\".format(y_train_oe[i]))"
      ],
      "execution_count": 0,
      "outputs": []
    },
    {
      "cell_type": "markdown",
      "metadata": {
        "id": "5LcGTqMtHUy3",
        "colab_type": "text"
      },
      "source": [
        "# Compute ROC curve for model"
      ]
    },
    {
      "cell_type": "code",
      "metadata": {
        "id": "B1_K1wPKJ-tL",
        "colab_type": "code",
        "colab": {}
      },
      "source": [
        "# Compute ROC curve and ROC area for each class\n",
        "fpr = dict()\n",
        "tpr = dict()\n",
        "roc_auc = dict()\n",
        "# Compute ROC curve and ROC area for each class\n",
        "\n",
        "for i in range(2):\n",
        "    fpr[i], tpr[i], _ = roc_curve(y_test_oe[:, i], y_pred_oe[:, i])\n",
        "    roc_auc[i] = auc(fpr[i], tpr[i])\n",
        "\n",
        "# Compute micro-average ROC curve and ROC area\n",
        "fpr[\"micro\"], tpr[\"micro\"], _ = roc_curve(y_test_oe.ravel(), y_pred_oe.ravel())\n",
        "roc_auc[\"micro\"] = auc(fpr[\"micro\"], tpr[\"micro\"])\n"
      ],
      "execution_count": 0,
      "outputs": []
    },
    {
      "cell_type": "markdown",
      "metadata": {
        "id": "h7zBCMWnSh8k",
        "colab_type": "text"
      },
      "source": [
        "# Plot ROC curve for model"
      ]
    },
    {
      "cell_type": "code",
      "metadata": {
        "id": "xBNaqC4zOa1F",
        "colab_type": "code",
        "colab": {}
      },
      "source": [
        "plt.figure()\n",
        "lw=1 # Line Width\n",
        "plt.plot(fpr[i], tpr[i], color='darkorange',\n",
        "         lw=lw, label='ROC curve (area = %0.2f)' % roc_auc[i])\n",
        "plt.plot([0, 1], [0, 1], color='navy', lw=lw, linestyle='--')\n",
        "plt.xlim([0.0, 1.0])\n",
        "plt.ylim([0.0, 1.05])\n",
        "plt.xlabel('False Positive Rate')\n",
        "plt.ylabel('True Positive Rate')\n",
        "plt.title('Receiver operating characteristic example')\n",
        "plt.legend(loc=\"lower right\")\n",
        "plt.show()"
      ],
      "execution_count": 0,
      "outputs": []
    }
  ]
}